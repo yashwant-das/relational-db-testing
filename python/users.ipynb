{
 "cells": [
  {
   "cell_type": "markdown",
   "metadata": {},
   "source": [
    "This Python script is designed to interact with a MySQL database. It creates a table, inserts fake data into it, retrieves the data, and then drops the table. Here's a detailed breakdown:\n",
    "\n",
    "1. **Environment Variables**: The script uses the `dotenv` module to load environment variables from a `.env` file. These variables are used to configure the connection to the MySQL database.\n",
    "\n",
    "2. **Database Connection**: The script connects to the MySQL database using the `mysql.connector` module. The connection parameters are taken from the environment variables.\n",
    "\n",
    "3. **Table Creation**: The script creates a new table named `users` in the database. The table has three columns: `id`, `name`, and `email`.\n",
    "\n",
    "4. **Data Insertion**: The script uses the `Faker` library to generate fake data for testing purposes. It inserts 10 fake users into the `users` table.\n",
    "\n",
    "5. **Data Retrieval**: The script retrieves all the data from the `users` table and checks that the number of rows matches the number of users it inserted.\n",
    "\n",
    "6. **Table Deletion**: Finally, the script drops the `users` table and closes the connection to the database.\n",
    "\n",
    "This script is a good starting point for anyone who needs to write a Python script that interacts with a MySQL database. It demonstrates how to perform basic database operations in Python, and how to use environment variables to configure a database connection."
   ]
  },
  {
   "cell_type": "code",
   "execution_count": 2,
   "metadata": {},
   "outputs": [],
   "source": [
    "import mysql.connector\n",
    "from faker import Faker\n",
    "import os\n",
    "from dotenv import load_dotenv\n",
    "\n",
    "load_dotenv()  # take environment variables from .env.\n",
    "\n",
    "DB_CONFIG = {\n",
    "    'user': os.getenv('DB_USER'),\n",
    "    'password': os.getenv('DB_PASSWORD'),\n",
    "    'host': os.getenv('DB_HOST'),\n",
    "    'port': os.getenv('DB_PORT'),\n",
    "    'database': os.getenv('DB_NAME')\n",
    "}\n",
    "\n",
    "CREATE_TABLE_QUERY = \"CREATE TABLE `users` ( `id` INT(2) NOT NULL AUTO_INCREMENT , `name` VARCHAR(100) NOT NULL , `email` VARCHAR(50) NOT NULL , PRIMARY KEY (`id`)) ENGINE = InnoDB;\"\n",
    "INSERT_QUERY = \"INSERT INTO users (name, email) VALUES (%s, %s)\"\n",
    "SELECT_QUERY = \"SELECT * FROM users\"\n",
    "DROP_TABLE_QUERY = \"DROP TABLE IF EXISTS `users`\"\n",
    "\n",
    "cnx = mysql.connector.connect(**DB_CONFIG)\n",
    "cursor = cnx.cursor()\n",
    "cursor.execute(CREATE_TABLE_QUERY)\n",
    "\n",
    "def create_and_read():\n",
    "    fake = Faker()\n",
    "    total_test_users = 10\n",
    "\n",
    "    for _ in range(total_test_users):\n",
    "        data = (fake.name(), fake.email())\n",
    "        cursor.execute(INSERT_QUERY, data)\n",
    "\n",
    "    cnx.commit()\n",
    "\n",
    "    cursor.execute(SELECT_QUERY)\n",
    "    rows = cursor.fetchall()\n",
    "    assert len(rows) == total_test_users\n",
    "\n",
    "create_and_read()\n",
    "\n",
    "cursor.execute(DROP_TABLE_QUERY)\n",
    "cnx.close()"
   ]
  }
 ],
 "metadata": {
  "kernelspec": {
   "display_name": "Python 3",
   "language": "python",
   "name": "python3"
  },
  "language_info": {
   "codemirror_mode": {
    "name": "ipython",
    "version": 3
   },
   "file_extension": ".py",
   "mimetype": "text/x-python",
   "name": "python",
   "nbconvert_exporter": "python",
   "pygments_lexer": "ipython3",
   "version": "3.12.0"
  }
 },
 "nbformat": 4,
 "nbformat_minor": 2
}
